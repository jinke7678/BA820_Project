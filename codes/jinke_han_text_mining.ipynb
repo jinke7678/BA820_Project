{
 "cells": [
  {
   "cell_type": "code",
   "execution_count": 28,
   "id": "06f8097f",
   "metadata": {
    "id": "06f8097f"
   },
   "outputs": [],
   "source": [
    "import pandas as pd\n",
    "from datetime import datetime\n",
    "import seaborn as sns\n",
    "from pandas.plotting import scatter_matrix\n",
    "import matplotlib.pyplot as plt\n",
    "\n",
    "import warnings\n",
    "warnings.filterwarnings(\"ignore\")"
   ]
  },
  {
   "cell_type": "code",
   "execution_count": 29,
   "id": "ceOscmvD1ZoL",
   "metadata": {
    "id": "ceOscmvD1ZoL"
   },
   "outputs": [],
   "source": [
    "data = pd.read_csv('cleaned_data.csv')"
   ]
  },
  {
   "cell_type": "code",
   "execution_count": 30,
   "id": "6c9dac13",
   "metadata": {
    "colab": {
     "base_uri": "https://localhost:8080/"
    },
    "id": "6c9dac13",
    "outputId": "9c256dd5-d0a9-40c5-a30d-f3c72de8ac71"
   },
   "outputs": [
    {
     "name": "stdout",
     "output_type": "stream",
     "text": [
      "<class 'pandas.core.frame.DataFrame'>\n",
      "RangeIndex: 136382 entries, 0 to 136381\n",
      "Data columns (total 11 columns):\n",
      " #   Column                  Non-Null Count   Dtype  \n",
      "---  ------                  --------------   -----  \n",
      " 0   listing_id              136382 non-null  int64  \n",
      " 1   review_date             136382 non-null  object \n",
      " 2   reviewer_id             136382 non-null  int64  \n",
      " 3   comments                136382 non-null  object \n",
      " 4   neighbourhood_cleansed  136382 non-null  object \n",
      " 5   price                   136382 non-null  float64\n",
      " 6   latitude                136382 non-null  float64\n",
      " 7   longitude               136382 non-null  float64\n",
      " 8   room_type               136382 non-null  object \n",
      " 9   number_of_reviews       136382 non-null  int64  \n",
      " 10  review_scores_rating    136382 non-null  float64\n",
      "dtypes: float64(4), int64(3), object(4)\n",
      "memory usage: 11.4+ MB\n"
     ]
    }
   ],
   "source": [
    "data.info()"
   ]
  },
  {
   "cell_type": "code",
   "execution_count": 32,
   "id": "ab1643ed",
   "metadata": {},
   "outputs": [
    {
     "name": "stdout",
     "output_type": "stream",
     "text": [
      "Collecting langdetect\n",
      "  Downloading langdetect-1.0.9.tar.gz (981 kB)\n",
      "\u001b[2K     \u001b[90m━━━━━━━━━━━━━━━━━━━━━━━━━━━━━━━━━━━━━━━\u001b[0m \u001b[32m981.5/981.5 kB\u001b[0m \u001b[31m7.6 MB/s\u001b[0m eta \u001b[36m0:00:00\u001b[0m00:01\u001b[0m00:01\u001b[0m\n",
      "\u001b[?25h  Preparing metadata (setup.py) ... \u001b[?25ldone\n",
      "\u001b[?25hRequirement already satisfied: six in /Users/jinkehan/anaconda3/lib/python3.11/site-packages (from langdetect) (1.16.0)\n",
      "Building wheels for collected packages: langdetect\n",
      "  Building wheel for langdetect (setup.py) ... \u001b[?25ldone\n",
      "\u001b[?25h  Created wheel for langdetect: filename=langdetect-1.0.9-py3-none-any.whl size=993225 sha256=fc1586bcd545f31f3d19d2f85756c9dda2f4cd0a76e138317d85511bb1509b86\n",
      "  Stored in directory: /Users/jinkehan/Library/Caches/pip/wheels/0a/f2/b2/e5ca405801e05eb7c8ed5b3b4bcf1fcabcd6272c167640072e\n",
      "Successfully built langdetect\n",
      "Installing collected packages: langdetect\n",
      "Successfully installed langdetect-1.0.9\n"
     ]
    }
   ],
   "source": [
    "!pip install langdetect"
   ]
  },
  {
   "cell_type": "code",
   "execution_count": 34,
   "id": "06e2ec79",
   "metadata": {},
   "outputs": [
    {
     "name": "stdout",
     "output_type": "stream",
     "text": [
      "The number of not English version reviews is: 8412\n"
     ]
    }
   ],
   "source": [
    "import pandas as pd\n",
    "from langdetect import detect, LangDetectException\n",
    "#define a function to check the language version\n",
    "def detect_language_safe(text):\n",
    "    try:\n",
    "        return detect(text)\n",
    "    except LangDetectException:\n",
    "        return None \n",
    "\n",
    "\n",
    "data['language'] = data['comments'].apply(detect_language_safe)\n",
    "\n",
    "\n",
    "non_english_comments_count = data[data['language'] != 'en'].shape[0]\n",
    "\n",
    "print(f\"The number of not English version reviews is: {non_english_comments_count}\")\n"
   ]
  },
  {
   "cell_type": "markdown",
   "id": "Ia6CHERz3u-U",
   "metadata": {
    "id": "Ia6CHERz3u-U"
   },
   "source": [
    "## Data Cleaning and Tokenize"
   ]
  },
  {
   "cell_type": "code",
   "execution_count": 15,
   "id": "afbab541",
   "metadata": {
    "colab": {
     "base_uri": "https://localhost:8080/"
    },
    "id": "afbab541",
    "outputId": "93fe95be-10e0-43b3-f409-f02f80fea6e0"
   },
   "outputs": [
    {
     "name": "stderr",
     "output_type": "stream",
     "text": [
      "[nltk_data] Downloading package punkt to /Users/jinkehan/nltk_data...\n",
      "[nltk_data]   Package punkt is already up-to-date!\n",
      "[nltk_data] Downloading package stopwords to\n",
      "[nltk_data]     /Users/jinkehan/nltk_data...\n",
      "[nltk_data]   Package stopwords is already up-to-date!\n"
     ]
    }
   ],
   "source": [
    "import re\n",
    "import nltk\n",
    "from nltk.corpus import stopwords\n",
    "from nltk.tokenize import word_tokenize\n",
    "\n",
    "nltk.download('punkt')\n",
    "nltk.download('stopwords')\n",
    "data['comments'] = data['comments'].str.lower()\n",
    "data['comments'] = data['comments'].str.replace(r\"[^\\w\\s']\", '')\n",
    "data['comments'] = data['comments'].str.replace(r'\\d+', '', regex=True)\n",
    "data['comments'] = data['comments'].str.replace(r'\\s+', ' ', regex=True)\n",
    "data['comments'] =data['comments'].str.strip()\n",
    "\n",
    "def remove_stopwords(sent):\n",
    "    stop_word = set(stopwords.words('english'))\n",
    "    words = word_tokenize(sent)\n",
    "    filter_word = [x for x in words if x not in stop_word and len(x)>2]\n",
    "    return filter_word\n",
    "\n",
    "data['comments'] = data['comments'].apply(remove_stopwords)"
   ]
  },
  {
   "cell_type": "code",
   "execution_count": 36,
   "id": "ddd61d80",
   "metadata": {
    "colab": {
     "base_uri": "https://localhost:8080/"
    },
    "id": "ddd61d80",
    "outputId": "4f2c6415-ebee-4ba4-ae4f-c4b7999fc813"
   },
   "outputs": [],
   "source": [
    "comments = data['comments']\n",
    "#comments"
   ]
  },
  {
   "cell_type": "code",
   "execution_count": 35,
   "id": "e24bc24d",
   "metadata": {
    "colab": {
     "base_uri": "https://localhost:8080/"
    },
    "id": "e24bc24d",
    "outputId": "521c2f34-dae1-4a48-d7b9-423facd33bbb"
   },
   "outputs": [],
   "source": [
    "list_doc = comments.tolist()\n",
    "#list_doc"
   ]
  },
  {
   "cell_type": "markdown",
   "id": "4370918e",
   "metadata": {},
   "source": [
    "Let's train_test_split now."
   ]
  },
  {
   "cell_type": "code",
   "execution_count": null,
   "id": "e07c2ec2",
   "metadata": {},
   "outputs": [],
   "source": [
    "from sklearn.model_selection import train_test_split\n",
    "\n",
    "#train_comments is used for set model\n",
    "#test_comments is used for evaluate model\n",
    "\n",
    "train_comments, test_comments = train_test_split(list_doc, test_size=0.2, random_state=42)\n"
   ]
  },
  {
   "cell_type": "markdown",
   "id": "y-b8mKkc7tBf",
   "metadata": {
    "id": "y-b8mKkc7tBf"
   },
   "source": [
    "## Topic Analysis"
   ]
  },
  {
   "cell_type": "markdown",
   "id": "azshNpBk7yBj",
   "metadata": {
    "id": "azshNpBk7yBj"
   },
   "source": [
    "Use topic numbers 3, 6, 9, 12, 15 respectively and print out all topics with 5 words.\n",
    "\n",
    "For this We will use gensim to train an LDA model. gensim requires the following steps:\n",
    "\n",
    "Construct a gensim.corpora.dictionary from the dataset Construct a gensim \"corpus\" using this dictionary, by mapping each word to an index in the dictionary Run LDA on this corpus"
   ]
  },
  {
   "cell_type": "code",
   "execution_count": 18,
   "id": "UzH9PqLs7T_n",
   "metadata": {
    "id": "UzH9PqLs7T_n"
   },
   "outputs": [],
   "source": [
    "from gensim import corpora\n",
    "dictionary_train = corpora.Dictionary(train_comments)\n",
    "corpus_train = [dictionary_train.doc2bow(doc) for doc in train_comments]"
   ]
  },
  {
   "cell_type": "markdown",
   "id": "2sJF_5Kj7z9w",
   "metadata": {
    "id": "2sJF_5Kj7z9w"
   },
   "source": [
    "The function below prints the top num words in each topic for a given model."
   ]
  },
  {
   "cell_type": "code",
   "execution_count": 19,
   "id": "N6K8Nqkl7UX4",
   "metadata": {
    "id": "N6K8Nqkl7UX4"
   },
   "outputs": [],
   "source": [
    "def print_topic_words(model,num):\n",
    "    \"\"\" print top words in model topics.\n",
    "\n",
    "    Args:\n",
    "        model: LDA model\n",
    "\n",
    "    Returns:\n",
    "        none\n",
    "    \"\"\"\n",
    "    for topic in range(model.num_topics):\n",
    "        top_words = model.show_topic(topic, num)\n",
    "        words = \", \".join([word[0] for word in top_words])\n",
    "        print(f\"Topic {topic}: {words}\")"
   ]
  },
  {
   "cell_type": "markdown",
   "id": "eGOhM1fI754X",
   "metadata": {
    "id": "eGOhM1fI754X"
   },
   "source": [
    "The following function builds multiple LDA models with number of topics specified in the list num_topics."
   ]
  },
  {
   "cell_type": "code",
   "execution_count": 20,
   "id": "DMh5e9xD73yp",
   "metadata": {
    "id": "DMh5e9xD73yp"
   },
   "outputs": [],
   "source": [
    "def build_num_topic_model(dictionary_train, corpus_train, num_topics):\n",
    "    \"\"\" Build lda model with given parameters, use print_topic_words to print words\n",
    "\n",
    "    Args:\n",
    "        dictionary: dictionary built from dataset\n",
    "        corpus: corpus built from dataset\n",
    "        num_topics: list of numbers\n",
    "\n",
    "    Returns:\n",
    "        none\n",
    "    \"\"\"\n",
    "    for num_topic in num_topics:\n",
    "        lda_model = models.ldamodel.LdaModel(corpus_train, num_topics=num_topic, id2word=dictionary_train)\n",
    "        print(f\"LDA model with {num_topic} topics:\")\n",
    "        print_topic_words(lda_model,5)\n",
    "        print(\"\\n\")"
   ]
  },
  {
   "cell_type": "code",
   "execution_count": 21,
   "id": "tK0z_hwg77bC",
   "metadata": {
    "colab": {
     "base_uri": "https://localhost:8080/"
    },
    "id": "tK0z_hwg77bC",
    "outputId": "9688d63d-0d21-40cb-c705-6a39d352bbbe"
   },
   "outputs": [
    {
     "name": "stdout",
     "output_type": "stream",
     "text": [
      "LDA model with 3 topics:\n",
      "Topic 0: room, place, stay, clean, would\n",
      "Topic 1: great, stay, place, clean, location\n",
      "Topic 2: boston, stay, place, great, location\n",
      "\n",
      "\n",
      "LDA model with 6 topics:\n",
      "Topic 0: muy, que, dan, para, con\n",
      "Topic 1: boston, walk, great, restaurants, close\n",
      "Topic 2: room, place, bathroom, good, would\n",
      "Topic 3: stay, home, place, boston, host\n",
      "Topic 4: très, est, pour, nous, dans\n",
      "Topic 5: great, stay, place, location, clean\n",
      "\n",
      "\n",
      "LDA model with 9 topics:\n",
      "Topic 0: stay, place, clean, would, recommend\n",
      "Topic 1: boston, easy, great, location, place\n",
      "Topic 2: kitchen, apartment, parking, space, well\n",
      "Topic 3: check, host, stay, time, airbnb\n",
      "Topic 4: line, très, station, est, walk\n",
      "Topic 5: und, die, sehr, propre, ist\n",
      "Topic 6: great, location, place, stay, clean\n",
      "Topic 7: room, good, bathroom, place, night\n",
      "Topic 8: muy, que, dan, best, para\n",
      "\n",
      "\n",
      "LDA model with 12 topics:\n",
      "Topic 0: host, stay, place, questions, time\n",
      "Topic 1: kitchen, apartment, nice, comfortable, street\n",
      "Topic 2: walking, restaurants, great, location, distance\n",
      "Topic 3: great, stay, place, location, clean\n",
      "Topic 4: easy, place, great, boston, walk\n",
      "Topic 5: room, one, night, would, stay\n",
      "Topic 6: stay, clean, place, recommend, home\n",
      "Topic 7: très, que, bien, est, pour\n",
      "Topic 8: boston, public, walk, stay, close\n",
      "Topic 9: like, pictures, parking, hotel, much\n",
      "Topic 10: good, hotel, room, price, location\n",
      "Topic 11: muy, dan, con, und, die\n",
      "\n",
      "\n",
      "LDA model with 15 topics:\n",
      "Topic 0: parking, clean, close, nice, easy\n",
      "Topic 1: service, elevator, issues, host, issue\n",
      "Topic 2: stay, would, place, recommend, definitely\n",
      "Topic 3: muy, que, para, con, todo\n",
      "Topic 4: host, beautiful, amazing, home, best\n",
      "Topic 5: room, night, would, one, bathroom\n",
      "Topic 6: center, excelente, conference, casa, convention\n",
      "Topic 7: check, easy, stay, host, clean\n",
      "Topic 8: good, location, instructions, excellent, price\n",
      "Topic 9: apartment, comfortable, well, location, clean\n",
      "Topic 10: great, place, location, stay, clean\n",
      "Topic 11: boston, great, location, restaurants, walking\n",
      "Topic 12: très, est, pour, nous, dans\n",
      "Topic 13: like, home, place, felt, hotel\n",
      "Topic 14: staff, better, could, respond, quick\n",
      "\n",
      "\n"
     ]
    }
   ],
   "source": [
    "from gensim import models\n",
    "build_num_topic_model(dictionary_train, corpus_train, [3, 6, 9, 12, 15])"
   ]
  },
  {
   "cell_type": "markdown",
   "id": "97H8ATju8Cuv",
   "metadata": {
    "id": "97H8ATju8Cuv"
   },
   "source": [
    "## Model Evaluation"
   ]
  },
  {
   "cell_type": "markdown",
   "id": "8gHGuyWY8Gmm",
   "metadata": {
    "id": "8gHGuyWY8Gmm"
   },
   "source": [
    "The code below trains topic models with different numbers of topics and measures their coherence and perplexity."
   ]
  },
  {
   "cell_type": "code",
   "execution_count": 22,
   "id": "TlyEbtOI79cK",
   "metadata": {
    "id": "TlyEbtOI79cK"
   },
   "outputs": [],
   "source": [
    "# perplexity\n",
    "# run different number of topics to get perplexity and coherence value for this model\n",
    "from gensim.models.coherencemodel import CoherenceModel\n",
    "dictionary_test = corpora.Dictionary(test_comments)\n",
    "corpus_test = [dictionary.doc2bow(doc) for doc in test_comments]\n",
    "\n",
    "def get_measurement_for_model(dictionary_test, corpus_test, topic_nums):\n",
    "    \"\"\" Build lda model with given parameters\n",
    "\n",
    "    Args:\n",
    "        dictionary: dictionary built from dataset\n",
    "        corpus: corpus built from dataset\n",
    "        topic_nums: a list contains all possible topic number\n",
    "\n",
    "    Returns:\n",
    "        2 lists: one of perplexities, and one of coherence value\n",
    "    \"\"\"\n",
    "    perplexity = []\n",
    "    coherence_value=[]\n",
    "    for num_topic in topic_nums:\n",
    "        lda_model = models.ldamodel.LdaModel(corpus_test, num_topics=num_topic, id2word=dictionary_test)\n",
    "        cohm = CoherenceModel(model=lda_model, corpus=corpus_test, coherence='u_mass')\n",
    "        coherence_value.append(cohm.get_coherence())\n",
    "        perplexity.append(lda_model.log_perplexity(corpus_test))\n",
    "\n",
    "    return perplexity,coherence_value"
   ]
  },
  {
   "cell_type": "code",
   "execution_count": 23,
   "id": "LzmNvBrU8IRI",
   "metadata": {
    "id": "LzmNvBrU8IRI"
   },
   "outputs": [],
   "source": [
    "perplexity, coherence = get_measurement_for_model(dictionary, corpus, [3, 6, 9, 12, 15, 20, 50])"
   ]
  },
  {
   "cell_type": "code",
   "execution_count": 24,
   "id": "3uF_6ovO8LGZ",
   "metadata": {
    "id": "3uF_6ovO8LGZ"
   },
   "outputs": [
    {
     "name": "stdout",
     "output_type": "stream",
     "text": [
      "[-7.279256232018252, -7.401988242096622, -7.587114254034628, -8.149824318117341, -8.755567268368452, -9.305596274108236, -12.530116113063677]\n",
      "[-1.960733327604126, -2.589950003820732, -3.0891349586795913, -3.65601301793671, -4.196177838004669, -3.0459234501811143, -3.9949403881911776]\n"
     ]
    }
   ],
   "source": [
    "print(perplexity)\n",
    "print(coherence)"
   ]
  },
  {
   "cell_type": "markdown",
   "id": "_AbWFVpj86NQ",
   "metadata": {
    "id": "_AbWFVpj86NQ"
   },
   "source": [
    "We can now plot the coherence and perplexity of each model."
   ]
  },
  {
   "cell_type": "code",
   "execution_count": 25,
   "id": "vm74vcV987V4",
   "metadata": {
    "id": "vm74vcV987V4"
   },
   "outputs": [
    {
     "data": {
      "image/png": "[encoded data removed]",
      "text/plain": [
       "<Figure size 640x480 with 1 Axes>"
      ]
     },
     "metadata": {},
     "output_type": "display_data"
    }
   ],
   "source": [
    "plt.plot([3, 6, 9, 12, 15, 20, 50], perplexity)\n",
    "plt.grid()\n",
    "plt.xlabel(\"Number of topics\")\n",
    "plt.ylabel(\"Perplexity\")\n",
    "plt.show()"
   ]
  },
  {
   "cell_type": "code",
   "execution_count": 26,
   "id": "mPVLrwaT8-Lq",
   "metadata": {
    "id": "mPVLrwaT8-Lq"
   },
   "outputs": [
    {
     "name": "stdout",
     "output_type": "stream",
     "text": [
      "Object `not` not found.\n"
     ]
    }
   ],
   "source": [
    "From the above graph what topic number would you choose and why? Is it a good idea to choose the topic number based on perplexity? why or why not?"
   ]
  },
  {
   "cell_type": "code",
   "execution_count": 27,
   "id": "_w850E2m8_VO",
   "metadata": {
    "id": "_w850E2m8_VO"
   },
   "outputs": [
    {
     "data": {
      "image/png": "[encoded data removed]",
      "text/plain": [
       "<Figure size 640x480 with 1 Axes>"
      ]
     },
     "metadata": {},
     "output_type": "display_data"
    }
   ],
   "source": [
    "plt.plot([3, 6, 9, 12, 15, 20, 50], coherence)\n",
    "plt.grid()\n",
    "plt.xlabel(\"Number of topics\")\n",
    "plt.ylabel(\"Coherence\")\n",
    "plt.show()"
   ]
  },
  {
   "cell_type": "markdown",
   "id": "gqL_BxIE9Cvp",
   "metadata": {
    "id": "gqL_BxIE9Cvp"
   },
   "source": [
    "From the above graph what topic number would you choose and why?"
   ]
  }
 ],
 "metadata": {
  "colab": {
   "provenance": []
  },
  "kernelspec": {
   "display_name": "Python 3 (ipykernel)",
   "language": "python",
   "name": "python3"
  },
  "language_info": {
   "codemirror_mode": {
    "name": "ipython",
    "version": 3
   },
   "file_extension": ".py",
   "mimetype": "text/x-python",
   "name": "python",
   "nbconvert_exporter": "python",
   "pygments_lexer": "ipython3",
   "version": "3.11.7"
  }
 },
 "nbformat": 4,
 "nbformat_minor": 5
}
